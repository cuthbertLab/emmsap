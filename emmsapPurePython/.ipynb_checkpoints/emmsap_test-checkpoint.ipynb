{
 "cells": [
  {
   "cell_type": "code",
   "execution_count": 8,
   "metadata": {
    "collapsed": false
   },
   "outputs": [
    {
     "name": "stdout",
     "output_type": "stream",
     "text": [
      "The music21.ipython21 extension is already loaded. To reload it, use:\n",
      "  %reload_ext music21.ipython21\n"
     ]
    }
   ],
   "source": [
    "%load_ext music21.ipython21\n",
    "from music21 import *\n",
    "from emmsap import similarityDB, mysqlEM\n",
    "em = mysqlEM.EMMSAPMysql()"
   ]
  },
  {
   "cell_type": "code",
   "execution_count": 14,
   "metadata": {
    "collapsed": false
   },
   "outputs": [
    {
     "data": {
      "text/plain": [
       "481"
      ]
     },
     "execution_count": 14,
     "metadata": {},
     "output_type": "execute_result"
    }
   ],
   "source": [
    "p = em.pieceByFilename('Vendome_Contratenor_IIr_1.xml')\n",
    "p.id"
   ]
  },
  {
   "cell_type": "code",
   "execution_count": 4,
   "metadata": {
    "collapsed": false
   },
   "outputs": [],
   "source": [
    "ss = similarityDB.SimilaritySearcher()\n",
    "ss.skipGroups = []\n",
    "ss.minThreshold = 6750"
   ]
  },
  {
   "cell_type": "code",
   "execution_count": 16,
   "metadata": {
    "collapsed": false
   },
   "outputs": [
    {
     "data": {
      "text/plain": [
       "[RatioMatch(thisSegmentId=88531, otherSegmentId=154690, thisRatio=7500),\n",
       " RatioMatch(thisSegmentId=88534, otherSegmentId=154692, thisRatio=7042),\n",
       " RatioMatch(thisSegmentId=88533, otherSegmentId=154692, thisRatio=7000),\n",
       " RatioMatch(thisSegmentId=88534, otherSegmentId=154693, thisRatio=6760),\n",
       " RatioMatch(thisSegmentId=88532, otherSegmentId=154691, thisRatio=6750),\n",
       " RatioMatch(thisSegmentId=88531, otherSegmentId=154689, thisRatio=6750)]"
      ]
     },
     "execution_count": 16,
     "metadata": {},
     "output_type": "execute_result"
    }
   ],
   "source": [
    "ratios = ss.ratiosForPiece(p.id)\n",
    "ratios"
   ]
  },
  {
   "cell_type": "code",
   "execution_count": 19,
   "metadata": {
    "collapsed": false
   },
   "outputs": [
    {
     "data": {
      "text/plain": [
       "[RatioMatch(thisSegmentId=88531, otherSegmentId=154690, thisRatio=7500),\n",
       " RatioMatch(thisSegmentId=88534, otherSegmentId=154692, thisRatio=7042),\n",
       " RatioMatch(thisSegmentId=88533, otherSegmentId=154692, thisRatio=7000),\n",
       " RatioMatch(thisSegmentId=88534, otherSegmentId=154693, thisRatio=6760),\n",
       " RatioMatch(thisSegmentId=88532, otherSegmentId=154691, thisRatio=6750),\n",
       " RatioMatch(thisSegmentId=88531, otherSegmentId=154689, thisRatio=6750)]"
      ]
     },
     "execution_count": 19,
     "metadata": {},
     "output_type": "execute_result"
    }
   ],
   "source": [
    "goodRatios = [r if ss.checkForShow(p, r)[0] is True else None for r in ratios]\n",
    "goodRatios"
   ]
  },
  {
   "cell_type": "code",
   "execution_count": 21,
   "metadata": {
    "collapsed": false
   },
   "outputs": [
    {
     "data": {
      "text/plain": [
       "[(<music21.stream.Part MusicXML Part>, <music21.stream.Part Contratenor>),\n",
       " (<music21.stream.Part MusicXML Part>, <music21.stream.Part Contratenor>),\n",
       " (<music21.stream.Part MusicXML Part>, <music21.stream.Part Contratenor>),\n",
       " (<music21.stream.Part MusicXML Part>, <music21.stream.Part Contratenor>),\n",
       " (<music21.stream.Part MusicXML Part>, <music21.stream.Part Contratenor>),\n",
       " (<music21.stream.Part MusicXML Part>, <music21.stream.Part Contratenor>)]"
      ]
     },
     "execution_count": 21,
     "metadata": {},
     "output_type": "execute_result"
    }
   ],
   "source": [
    "parts = [p.partsFromSegmentPair(*r) for r in goodRatios]\n",
    "parts"
   ]
  },
  {
   "cell_type": "code",
   "execution_count": 22,
   "metadata": {
    "collapsed": false
   },
   "outputs": [
    {
     "data": {
      "image/png": "[encoded data removed]",
      "text/plain": [
       "<music21.ipython21.objects.IPythonPNGObject at 0x107dbef60>"
      ]
     },
     "execution_count": 22,
     "metadata": {},
     "output_type": "execute_result"
    }
   ],
   "source": [
    "parts[0][0].show()"
   ]
  },
  {
   "cell_type": "code",
   "execution_count": null,
   "metadata": {
    "collapsed": true
   },
   "outputs": [],
   "source": []
  }
 ],
 "metadata": {
  "kernelspec": {
   "display_name": "Python 3",
   "language": "python",
   "name": "python3"
  },
  "language_info": {
   "codemirror_mode": {
    "name": "ipython",
    "version": 3
   },
   "file_extension": ".py",
   "mimetype": "text/x-python",
   "name": "python",
   "nbconvert_exporter": "python",
   "pygments_lexer": "ipython3",
   "version": "3.4.0"
  }
 },
 "nbformat": 4,
 "nbformat_minor": 0
}
